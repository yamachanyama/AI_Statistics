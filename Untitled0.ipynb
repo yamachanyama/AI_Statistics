{
  "nbformat": 4,
  "nbformat_minor": 0,
  "metadata": {
    "colab": {
      "name": "Untitled0.ipynb",
      "provenance": [],
      "authorship_tag": "ABX9TyNXxGXK+mw0yeF6oEEoX9gC",
      "include_colab_link": true
    },
    "kernelspec": {
      "name": "python3",
      "display_name": "Python 3"
    },
    "language_info": {
      "name": "python"
    }
  },
  "cells": [
    {
      "cell_type": "markdown",
      "metadata": {
        "id": "view-in-github",
        "colab_type": "text"
      },
      "source": [
        "<a href=\"https://colab.research.google.com/github/yamachanyama/AI_Statistics/blob/main/Untitled0.ipynb\" target=\"_parent\"><img src=\"https://colab.research.google.com/assets/colab-badge.svg\" alt=\"Open In Colab\"/></a>"
      ]
    },
    {
      "cell_type": "code",
      "execution_count": 3,
      "metadata": {
        "id": "uDxwEa40mhAz",
        "outputId": "87fa96bd-c5aa-48e4-a174-7d2884b4fab6",
        "colab": {
          "base_uri": "https://localhost:8080/",
          "height": 451
        }
      },
      "outputs": [
        {
          "output_type": "stream",
          "name": "stdout",
          "text": [
            "1回目: w = [-152.62107941 -431.17483467]\n",
            "2回目: w = [321.37892059 -47.17483467]\n",
            "3回目: w = [  88.37892059 -477.17483467]\n",
            "4回目: w = [ 484.37892059 -156.17483467]\n",
            "5回目: w = [  85.37892059 -589.17483467]\n",
            "6回目: w = [ 488.37892059 -289.17483467]\n",
            "7回目: w = [ 109.37892059 -705.17483467]\n",
            "8回目: w = [ 372.37892059 -593.17483467]\n",
            "9回目: w = [ 846.37892059 -209.17483467]\n",
            "10回目: w = [ 613.37892059 -639.17483467]\n"
          ]
        },
        {
          "output_type": "display_data",
          "data": {
            "text/plain": [
              "<Figure size 432x288 with 1 Axes>"
            ],
            "image/png": "[encoded data removed]"
          },
          "metadata": {
            "needs_background": "light"
          }
        }
      ],
      "source": [
        "import numpy as np\n",
        "import matplotlib.pyplot as plt\n",
        "\n",
        "# 学習データを読み込む\n",
        "train = np.loadtxt('https://raw.githubusercontent.com/yamachanyama/AI_Statistics/main/images1.csv', delimiter=',', skiprows=1)\n",
        "train_x = train[:,0:2]\n",
        "train_y = train[:,2]\n",
        "\n",
        "# 重みの初期化\n",
        "w = np.random.rand(2)\n",
        "\n",
        "# 識別関数\n",
        "def f(x):\n",
        "    if np.dot(w, x) >= 0:\n",
        "        return 1\n",
        "    else:\n",
        "        return -1\n",
        "\n",
        "# 繰り返し回数\n",
        "epoch = 10\n",
        "\n",
        "# 更新回数\n",
        "count = 0\n",
        "\n",
        "# 重みを学習する\n",
        "for _ in range(epoch):\n",
        "    for x, y in zip(train_x, train_y):\n",
        "        if f(x) != y:\n",
        "            w = w + y * x\n",
        "\n",
        "            # ログの出力\n",
        "            count += 1\n",
        "            print('{}回目: w = {}'.format(count, w))\n",
        "\n",
        "# プロットして確認\n",
        "x1 = np.arange(0, 500)\n",
        "plt.plot(train_x[train_y ==  1, 0], train_x[train_y ==  1, 1], 'o')\n",
        "plt.plot(train_x[train_y == -1, 0], train_x[train_y == -1, 1], 'x')\n",
        "plt.plot(x1, -w[0] / w[1] * x1, linestyle='dashed')\n",
        "plt.show()\n"
      ]
    }
  ]
}